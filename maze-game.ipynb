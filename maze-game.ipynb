{
 "cells": [
  {
   "cell_type": "code",
   "execution_count": 1,
   "metadata": {},
   "outputs": [
    {
     "name": "stdout",
     "output_type": "stream",
     "text": [
      "P . # . .\n",
      "# . # . E\n",
      "# . # . .\n",
      ". . . # .\n",
      ". # . . .\n",
      "\n"
     ]
    }
   ],
   "source": [
    "# The 5x5 grid maze\n",
    "maze = [\n",
    "    ['P', '.', '#', '.', '.'],\n",
    "    ['#', '.', '#', '.', 'E'],\n",
    "    ['#', '.', '#', '.', '.'],\n",
    "    ['.', '.', '.', '#', '.'],\n",
    "    ['.', '#', '.', '.', '.']\n",
    "]\n",
    "\n",
    "# Initial player position (row, col)\n",
    "player_pos = [0, 0]\n",
    "\n",
    "# Function to display the maze\n",
    "def display_maze():\n",
    "    for row in maze:\n",
    "        print(' '.join(row))\n",
    "    print()  # Add an extra newline for better spacing\n",
    "\n",
    "# Function to move the player\n",
    "def move_player(direction):\n",
    "    global player_pos\n",
    "    row, col = player_pos\n",
    "    new_row, new_col = row, col\n",
    "    \n",
    "    # Determine the new position based on the direction\n",
    "    if direction == 'up':\n",
    "        new_row = row - 1\n",
    "    elif direction == 'down':\n",
    "        new_row = row + 1\n",
    "    elif direction == 'left':\n",
    "        new_col = col - 1\n",
    "    elif direction == 'right':\n",
    "        new_col = col + 1\n",
    "    else:\n",
    "        print(\"Invalid move. Use 'up', 'down', 'left', or 'right'.\")\n",
    "        return\n",
    "    \n",
    "    # Check if the new position is within bounds and not a wall\n",
    "    if 0 <= new_row < 5 and 0 <= new_col < 5 and maze[new_row][new_col] != '#':\n",
    "        # Move player\n",
    "        maze[row][col] = '.'  # Replace old position with '.'\n",
    "        player_pos = [new_row, new_col]\n",
    "        maze[new_row][new_col] = 'P'  # Place 'P' in the new position\n",
    "    else:\n",
    "        print(\"You hit a wall or tried to move out of bounds!\")\n",
    "\n",
    "# Main game loop\n",
    "while True:\n",
    "    # Display the current state of the maze\n",
    "    display_maze()\n",
    "\n",
    "    # Check if player reached the exit\n",
    "    if maze[player_pos[0]][player_pos[1]] == 'E':\n",
    "        print(\"Congratulations! You've reached the exit!\")\n",
    "        break\n",
    "\n",
    "    # Ask the user for their move\n",
    "    move = input(\"Enter your move (up, down, left, right) or 'quit' to exit: \").lower()\n",
    "\n",
    "    # Exit the game if the user types 'quit'\n",
    "    if move == 'quit':\n",
    "        print(\"Thanks for playing!\")\n",
    "        break\n",
    "\n",
    "    # Move the player in the specified direction\n",
    "    move_player(move)\n"
   ]
  }
 ],
 "metadata": {
  "kernelspec": {
   "display_name": "Python 3",
   "language": "python",
   "name": "python3"
  },
  "language_info": {
   "codemirror_mode": {
    "name": "ipython",
    "version": 3
   },
   "file_extension": ".py",
   "mimetype": "text/x-python",
   "name": "python",
   "nbconvert_exporter": "python",
   "pygments_lexer": "ipython3",
   "version": "3.12.3"
  }
 },
 "nbformat": 4,
 "nbformat_minor": 2
}
